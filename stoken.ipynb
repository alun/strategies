{
 "cells": [
  {
   "cell_type": "markdown",
   "metadata": {},
   "source": [
    "# Strategy"
   ]
  },
  {
   "cell_type": "markdown",
   "metadata": {},
   "source": [
    "- S&P 500 (SPY) vs Intermediate-term US Treasuries (IEF)\n",
    "- Gold (GLD) vs Long-term US Treasuries (TLT)\n",
    "- US Real Estate (VNQ) vs Intermediate-term US Treasuries (IEF)\n",
    "\n",
    "\n",
    "![strategy_params](strategy_params.png)\n",
    "\n",
    "\n",
    "[More info](https://allocatesmartly.com/stokens-active-combined-asset-strategy/)\n",
    "\n",
    "IEF - 7-10 years bonds\n",
    "\n",
    "TLT - 20+ bonds\n"
   ]
  },
  {
   "cell_type": "code",
   "execution_count": null,
   "metadata": {},
   "outputs": [],
   "source": [
    "CONFIG = {\n",
    "  'SPY': {'upper': 126, 'lower': 252, 'defensive_asset': 'IEF'},\n",
    "  'GLD': {'upper': 252, 'lower': 126, 'defensive_asset': 'TLT'},\n",
    "  'VNQ': {'upper': 126, 'lower': 252, 'defensive_asset': 'IEF'}\n",
    "}"
   ]
  },
  {
   "cell_type": "code",
   "execution_count": null,
   "metadata": {},
   "outputs": [],
   "source": [
    "import numpy as np\n",
    "\n",
    "ASSETS = set(np.array([\n",
    "  [asset, config['defensive_asset']] \n",
    "    for (asset, config) in CONFIG.items()\n",
    "]).flat)\n",
    "\n",
    "print(f'All assets used: {ASSETS}')"
   ]
  },
  {
   "cell_type": "markdown",
   "metadata": {},
   "source": [
    "# Load assets history"
   ]
  },
  {
   "cell_type": "markdown",
   "metadata": {},
   "source": [
    "We will use yahoo finance client to load dividends and prices history for our `ASSETS`."
   ]
  },
  {
   "cell_type": "code",
   "execution_count": null,
   "metadata": {},
   "outputs": [],
   "source": [
    "# pip install --user pandas numpy datetime scipy pandas_datareader yfinance\n",
    "\n",
    "import pandas as pd\n",
    "import yfinance as yf\n",
    "import matplotlib.pyplot as plt\n",
    "\n",
    "from datetime import datetime, date, timedelta\n",
    "\n",
    "yf.pdr_override()"
   ]
  },
  {
   "cell_type": "code",
   "execution_count": null,
   "metadata": {},
   "outputs": [],
   "source": [
    "def load_max_history(assets):\n",
    "  df = None\n",
    "\n",
    "  for asset in assets:\n",
    "    data = yf.Ticker(asset).history(period='max')\n",
    "    columns = pd.MultiIndex.from_product(\n",
    "      [data.columns, [asset]],\n",
    "      names=['property', 'asset']\n",
    "    )\n",
    "    multi_level_df = pd.DataFrame(data.values, index=data.index, columns=columns)\n",
    "    # display(multi_level_df.columns.to_numpy())\n",
    "    if df is None:\n",
    "      df = multi_level_df\n",
    "    else:\n",
    "      df = df.join(multi_level_df)\n",
    "\n",
    "  df = df[sorted(df.columns)]\n",
    "  return df.dropna()\n",
    "\n",
    "df = load_max_history(ASSETS)[['Close', 'Dividends']]\n",
    "df.head()"
   ]
  },
  {
   "cell_type": "markdown",
   "metadata": {},
   "source": [
    "# Stategy evaluaton"
   ]
  },
  {
   "cell_type": "markdown",
   "metadata": {},
   "source": [
    "Create upper and lower channels for risk-on assets defined in the `CONFIG`."
   ]
  },
  {
   "cell_type": "code",
   "execution_count": null,
   "metadata": {},
   "outputs": [],
   "source": [
    "from operator import itemgetter"
   ]
  },
  {
   "cell_type": "code",
   "execution_count": null,
   "metadata": {},
   "outputs": [],
   "source": [
    "for (risk_asset, config) in CONFIG.items():\n",
    "  (upper_channel_window, lower_channel_window) = itemgetter('upper', 'lower')(config)\n",
    "  close_prices = df.Close[risk_asset]\n",
    "\n",
    "  df['Upper_Channel', risk_asset] = close_prices\\\n",
    "    .rolling(window=upper_channel_window).max().shift(1)\n",
    "  df['Lower_Channel', risk_asset] = close_prices\\\n",
    "    .rolling(window=lower_channel_window).min().shift(1)\n",
    "\n",
    "df = df[sorted(df.columns)]"
   ]
  },
  {
   "cell_type": "code",
   "execution_count": null,
   "metadata": {},
   "outputs": [],
   "source": [
    "df.iloc[250:].head() # deliberate shift to check the first moment where 252 lower/upper channel appeared for the first time"
   ]
  },
  {
   "cell_type": "code",
   "execution_count": null,
   "metadata": {},
   "outputs": [],
   "source": [
    "df.iloc[124:].head() # deliberate shift to check the first moment where 126 lower/upper channel appeared for the first time"
   ]
  },
  {
   "cell_type": "code",
   "execution_count": null,
   "metadata": {},
   "outputs": [],
   "source": [
    "from dotmap import DotMap\n",
    "import rpar\n",
    "\n",
    "SLIPPAGE = 0.01\n",
    "FEE = 0.02\n",
    "TAX = 0.15 # we pay 15% tax on dividends here (but it can vary a lot depending on circumstances)\n",
    "\n",
    "cash = 50000 # initial cash\n",
    "portfolio = []\n",
    "\n",
    "def flatten_portfolio(portfolio): \n",
    "  dict = {}\n",
    "  for item in portfolio:\n",
    "    dict[item['asset']] = item['amount']\n",
    "  return dict\n",
    "\n",
    "results = DotMap(portfolio_value=[], cash=[], portfolio=[], last_fractions=[])\n",
    "# TODO add turnaround\n",
    "total = DotMap(fees=0, volume=0)\n",
    "\n",
    "# RISK_BALANCE_WINDOW = float('inf')\n",
    "RISK_BALANCE_WINDOW = 2 * 256\n",
    "\n",
    "# history = df.iloc[0:5]\n",
    "history = df\n",
    "for x in range(0, len(history)):\n",
    "\n",
    "  today = history.iloc[x]\n",
    "  close_price = today.Close\n",
    "  dividends = today.Dividends\n",
    "\n",
    "  fractions = {}\n",
    "\n",
    "  # initialize portfolio - start with risk on\n",
    "  if len(portfolio) == 0:\n",
    "    portfolio = [{}] * len(CONFIG)\n",
    "    assets = CONFIG.keys()\n",
    "    portfolio_value = cash\n",
    "    fractions = dict(zip(assets, [1 / len(assets)] * len(assets)))\n",
    "\n",
    "    for (index, (asset, config)) in enumerate(CONFIG.items()):\n",
    "      portfolio[index] = {'asset': asset, 'amount': 0}\n",
    "      # we will open positions later during the rebalance phase\n",
    "\n",
    "  # add dividends\n",
    "  for item in portfolio:\n",
    "    (asset, amount) = itemgetter('asset', 'amount')(item)\n",
    "    maybe_divs = dividends[asset]\n",
    "    if not np.isnan(maybe_divs):\n",
    "      cash += (amount * maybe_divs) * (1 - TAX) \n",
    "\n",
    "  # check if need to replace some assets with defensive assets\n",
    "  upper_channel = today.Upper_Channel\n",
    "  lower_channel = today.Lower_Channel\n",
    "\n",
    "  new_assets = []\n",
    "\n",
    "  for (index, (risk_asset, config)) in enumerate(CONFIG.items()):\n",
    "    my_asset = portfolio[index]['asset']\n",
    "    if not pd.isna(upper_channel[risk_asset]) and close_price[risk_asset] > upper_channel[risk_asset]:\n",
    "      new_assets.append(risk_asset)\n",
    "    elif not pd.isna(lower_channel[risk_asset]) and close_price[risk_asset] < lower_channel[risk_asset]:\n",
    "      new_assets.append(config['defensive_asset'])\n",
    "    else:\n",
    "      new_assets.append(my_asset)\n",
    "\n",
    "  needs_rotation = any(new_asset != item['asset'] for (new_asset, item) in zip(new_assets, portfolio))\n",
    "  if needs_rotation:\n",
    "    # maybe update risk balanced weights based on the previous RISK_BALANCE_WINDOW prices\n",
    "    # note: if RISK_BALANCE_WINDOW = float('inf') this will never happen in this case - always use equal weight\n",
    "    fractions = dict(zip(new_assets, [1 / len(new_assets)] * len(new_assets)))\n",
    "    if x > RISK_BALANCE_WINDOW:\n",
    "      fractions = dict(rpar.get_weights(df.iloc[x - RISK_BALANCE_WINDOW:x].Close[new_assets]))\n",
    "      # this protects from cases when a single asset is repeated twice e.g. IEF/GLD/IEF state\n",
    "      for (k, v) in fractions.items():\n",
    "        if isinstance(fractions[k], pd.Series): \n",
    "          fractions[k] = v[0]\n",
    "\n",
    "    for (index, item) in enumerate(portfolio):\n",
    "      # do we need to replace the item (i.e. switch risk/defensive)\n",
    "      if new_assets[index] != item['asset']:\n",
    "        # sell current asset, we will buy new asset later during rebalance\n",
    "        (asset, amount) = itemgetter('asset', 'amount')(item)\n",
    "        cash += amount * (close_price[asset] - SLIPPAGE)\n",
    "\n",
    "        fee = amount * FEE\n",
    "        cash -= fee\n",
    "        total.fee += fee\n",
    "        total.volume += amount\n",
    "\n",
    "        item['asset'] = new_assets[index] \n",
    "        item['amount'] = 0\n",
    "\n",
    "  # calculate current portfolio value\n",
    "  portfolio_value = cash\n",
    "  for item in portfolio:\n",
    "    (asset, amount) = itemgetter('asset', 'amount')(item)\n",
    "    portfolio_value += (close_price[asset] - SLIPPAGE - FEE) * amount\n",
    "\n",
    "  if len(fractions) == 0: \n",
    "    fractions = results.last_fractions[-1] \n",
    "\n",
    "  for item in portfolio:\n",
    "    asset = item['asset']\n",
    "    price = close_price[asset]\n",
    "    new_amount = np.floor(portfolio_value * fractions[asset] / price)\n",
    "    diff = item['amount'] - new_amount\n",
    "    if diff != 0:\n",
    "      # rebalance\n",
    "      if diff > 0: # => item['amount'] > new_amount => sell\n",
    "        cash += abs(diff) * (price - SLIPPAGE)\n",
    "      else: # => item['amount'] < new_amount => buy\n",
    "        cash -= abs(diff) * (price + SLIPPAGE)\n",
    "\n",
    "      fee = abs(diff) * FEE\n",
    "      cash -= fee\n",
    "      total.fee += fee\n",
    "      total.volume += abs(diff)\n",
    "\n",
    "      item['amount'] = new_amount\n",
    "\n",
    "  # calculate updated portfolio value\n",
    "  portfolio_value = cash\n",
    "  for item in portfolio:\n",
    "    (asset, amount) = itemgetter('asset', 'amount')(item)\n",
    "    portfolio_value += (close_price[asset] - SLIPPAGE - FEE) * amount\n",
    "\n",
    "  results.portfolio_value.append(portfolio_value)\n",
    "  results.cash.append(cash)\n",
    "  results.portfolio.append(flatten_portfolio(portfolio))\n",
    "  results.last_fractions.append(fractions)\n",
    "\n",
    "result_df = pd.DataFrame(results, index=history.index)\n",
    "\n",
    "# dumping results dataframe to HTML can be good for debug purposes\n",
    "#\n",
    "# with open('out.html', 'w') as file:\n",
    "#   file.write(history.join(result_df).to_html())\n"
   ]
  },
  {
   "cell_type": "markdown",
   "metadata": {},
   "source": [
    "## Portfolio states"
   ]
  },
  {
   "cell_type": "code",
   "execution_count": null,
   "metadata": {},
   "outputs": [],
   "source": [
    "result_df.head()"
   ]
  },
  {
   "cell_type": "code",
   "execution_count": null,
   "metadata": {},
   "outputs": [],
   "source": [
    "result_df.tail()"
   ]
  },
  {
   "cell_type": "markdown",
   "metadata": {},
   "source": [
    "# Total annualized returns"
   ]
  },
  {
   "cell_type": "code",
   "execution_count": null,
   "metadata": {},
   "outputs": [],
   "source": [
    "first = result_df.iloc[0]\n",
    "last = result_df.iloc[-1]\n",
    "\n",
    "years = (last.name - first.name).days / 365.25\n",
    "\n",
    "annualized_return = (last['portfolio_value']  / first['portfolio_value']) ** (1/years) - 1\n",
    "\n",
    "print(\n",
    "  \"\"\"Annualized return is: %.2f%%\n",
    "over the period of %.2f years\n",
    "from %s to %s\"\"\" % (\n",
    "    100 * annualized_return,\n",
    "    years,\n",
    "    date.fromtimestamp(first.name.timestamp()), \n",
    "    date.fromtimestamp(last.name.timestamp())\n",
    "  )\n",
    ")\n"
   ]
  },
  {
   "cell_type": "markdown",
   "metadata": {},
   "source": [
    "# Overall performance"
   ]
  },
  {
   "cell_type": "code",
   "execution_count": null,
   "metadata": {},
   "outputs": [],
   "source": [
    "print(f'Fees paid {total.fee:.2f}')\n",
    "print(f'Volume traded {total.volume:.2f} stocks')"
   ]
  },
  {
   "cell_type": "markdown",
   "metadata": {},
   "source": [
    "## Free cash"
   ]
  },
  {
   "cell_type": "code",
   "execution_count": null,
   "metadata": {},
   "outputs": [],
   "source": [
    "result_df.cash.plot(figsize=(15, 8))"
   ]
  },
  {
   "cell_type": "markdown",
   "metadata": {},
   "source": [
    "## Equity"
   ]
  },
  {
   "cell_type": "code",
   "execution_count": null,
   "metadata": {},
   "outputs": [],
   "source": [
    "log_returns = np.log(result_df.portfolio_value).diff()\n",
    "\n",
    "cum_returns = log_returns.cumsum() \n",
    "\n",
    "CAPITAL = 10000\n",
    "\n",
    "perf = CAPITAL * np.exp(cum_returns)\n",
    "plt.figure()\n",
    "perf.plot(figsize=(15,8), color='b', alpha=0.7)\n",
    "\n",
    "print(f'Initial investment at {perf.index[0].date()}: {CAPITAL}')\n",
    "print(f'Last value at {perf.index[-1].date()}: {perf[-1]:.2f}')"
   ]
  },
  {
   "cell_type": "code",
   "execution_count": null,
   "metadata": {},
   "outputs": [],
   "source": [
    "TRADING_DAYS_YEARLY = 252\n",
    "# RISK_FREE_RATE = 0.02\n",
    "RISK_FREE_RATE = 0.00\n",
    "\n",
    "annual_return = np.exp(log_returns.mean() * TRADING_DAYS_YEARLY) - 1\n",
    "annual_volatility = log_returns.std() * np.sqrt(TRADING_DAYS_YEARLY)\n",
    "\n",
    "sharpe_ratio = (annual_return - RISK_FREE_RATE) / annual_volatility\n",
    "\n",
    "annualized_downside = log_returns.loc[log_returns<0].std() * np.sqrt(TRADING_DAYS_YEARLY)\n",
    "sortino_ratio = (annual_return - RISK_FREE_RATE) / annualized_downside  \n",
    "\n",
    "sortino_ratio = (annual_return - RISK_FREE_RATE) / annualized_downside  \n",
    "\n",
    "print(\n",
    "  f\"\"\"Annulaized return {(annual_return * 100):.2f}%\n",
    "Annualized volatility {(annual_volatility * 100):.2f}%\n",
    "Sharpe ratio {sharpe_ratio:.2f}\n",
    "Sortino ratio {sortino_ratio:.2f}\n",
    "\"\"\" \n",
    ")"
   ]
  },
  {
   "cell_type": "markdown",
   "metadata": {},
   "source": [
    "# Returns by month/by year"
   ]
  },
  {
   "cell_type": "code",
   "execution_count": null,
   "metadata": {},
   "outputs": [],
   "source": [
    "\n",
    "def montly_results(result_df):\n",
    "  initial_value = result_df['portfolio_value'][0]\n",
    "\n",
    "  grouping = pd.MultiIndex.from_tuples(\n",
    "    zip(result_df.index.year, result_df.index.month),\n",
    "    names=['year', 'month']\n",
    "  )\n",
    "\n",
    "  by_month = result_df.groupby(by=grouping).last()[['portfolio_value']]\n",
    "  by_month = by_month.join(by_month.shift(1).add_prefix('prev_')).fillna(initial_value)\n",
    "\n",
    "  table = pd.DataFrame(\n",
    "    {\n",
    "      'change': 100 * (by_month['portfolio_value'] / by_month['prev_portfolio_value'] - 1),\n",
    "    },\n",
    "    index = grouping\n",
    "  ).dropna().reset_index()\n",
    "\n",
    "  montly_results = table.pivot_table(index=['year'], columns=['month'], values=['change'])\n",
    "\n",
    "  grouping = result_df.index.year\n",
    "  by_year = result_df.groupby(by=grouping).last()[['portfolio_value']]\n",
    "  by_year = by_year.join(by_year.shift(1).add_prefix('prev_')).fillna(initial_value)\n",
    "\n",
    "  montly_results['total'] = 100 * (by_year['portfolio_value'] / by_year['prev_portfolio_value'] - 1)\n",
    "\n",
    "  return montly_results\n",
    "\n",
    "pd.options.display.float_format = lambda x: 'N/A' if np.isnan(x) else '{:,.2f}%'.format(x)\n",
    "display(montly_results(result_df))\n",
    "pd.options.display.float_format = None \n"
   ]
  },
  {
   "cell_type": "markdown",
   "metadata": {},
   "source": [
    "# Drawdown analysis"
   ]
  },
  {
   "cell_type": "code",
   "execution_count": null,
   "metadata": {},
   "outputs": [],
   "source": [
    "last_peak = cum_returns.cummax()\n",
    "\n",
    "log_dd = cum_returns - last_peak\n",
    "\n",
    "pct_dd = (np.exp(log_dd) - 1) * 100\n",
    "\n",
    "ax = pct_dd.plot(figsize=(15,8), color='r', alpha=0.7)\n",
    "ax.grid(axis='both')\n",
    "ax.set_ylabel('Drawdown, %')\n",
    "\n",
    "# plt.savefig('drawdown_evaluation.svg')\n"
   ]
  },
  {
   "cell_type": "markdown",
   "metadata": {},
   "source": [
    "## Longest/max drawdowns"
   ]
  },
  {
   "cell_type": "code",
   "execution_count": null,
   "metadata": {},
   "outputs": [],
   "source": [
    "\n",
    "def find_true_streaks(array):\n",
    "  # finds all \"True\" streaks in array from longest to shortest\n",
    "\n",
    "  masked = np.concatenate(([False], array, [False]))       \n",
    "  true_streaks = np.flatnonzero(masked[1:] != masked[:-1]).reshape(-1, 2) \n",
    "  ends = true_streaks[:,1]\n",
    "  true_streaks_descending = (true_streaks[:,1] - true_streaks[:,0]).argsort()[::-1]\n",
    "  return true_streaks[true_streaks_descending]\n",
    "\n",
    "dd_streaks = find_true_streaks(pct_dd.values != 0)\n",
    "\n",
    "def get_streak(n):\n",
    "  start, end = dd_streaks[n]\n",
    "  end = end - 1\n",
    "  days = (pct_dd.index[end] - pct_dd.index[start]).days\n",
    "  years = days / 365.25\n",
    "  months = years * 12\n",
    "  max_dd_index = start + np.argmin(pct_dd.iloc[start:end])\n",
    "  max_depth = pct_dd.iloc[max_dd_index]\n",
    "\n",
    "  return DotMap(\n",
    "    rank=n+1,\n",
    "    days=days,\n",
    "    months=months,\n",
    "    years=years,\n",
    "    from_date=pct_dd.index[start].date(),\n",
    "    to_date=pct_dd.index[end].date(),\n",
    "    max_depth=max_depth,\n",
    "    max_dd_date=pct_dd.index[max_dd_index].date(),\n",
    "  )\n",
    "\n",
    "def print_streak(n):\n",
    "  streak = get_streak(n)\n",
    "  print(\n",
    "    f\"\"\"#{streak.rank}: Drawdown: {streak.days} days = {streak.months:.2f} months = {streak.years:.2f} years\n",
    "From {streak.from_date} to {streak.to_date}\"\"\" \n",
    "  )\n",
    "\n",
    "streaks_info = []\n",
    "for i in range(12):\n",
    "  if dd_streaks.size <= i: break\n",
    "  streaks_info.append(get_streak(i).values())\n",
    "\n",
    "if dd_streaks.size == 0:\n",
    "  print(\"No drawdown found\")\n",
    "else:\n",
    "  dd_df = pd.DataFrame(streaks_info, columns=get_streak(0).keys()).set_index(['rank'])\n",
    "  pd.options.display.float_format = '{:,.2f}'.format\n",
    "  print('Longest drawdowns')\n",
    "  display(dd_df)\n",
    "  print('By depth')\n",
    "  display(dd_df.sort_values(by=['max_depth']))\n",
    "  pd.options.display.float_format = None \n",
    "\n",
    "print()\n",
    "max_dd_index = np.argmin(pct_dd)\n",
    "print(f\"\"\"Absolute max drawdown {pct_dd.iloc[max_dd_index]:.2f}% on {pct_dd.index[max_dd_index].date()}\"\"\")"
   ]
  },
  {
   "cell_type": "markdown",
   "metadata": {},
   "source": [
    "## Drawdown quantiles"
   ]
  },
  {
   "cell_type": "code",
   "execution_count": null,
   "metadata": {},
   "outputs": [],
   "source": [
    "from scipy.stats import expon\n",
    "\n",
    "nonzero_dd_days = -pct_dd[pct_dd < 0].sort_values()\n",
    "size = nonzero_dd_days.size\n",
    "\n",
    "nonzero_dd_days.hist(bins=32, alpha=0.5, density=True, color='red')\n",
    "\n",
    "params = expon.fit(nonzero_dd_days)\n",
    "\n",
    "def quantile(p):\n",
    "  return expon.ppf(p, *params)\n",
    "\n",
    "xs = np.linspace(quantile(0.001), quantile(0.999), 100)\n",
    "plt.plot(xs, expon.pdf(xs, *params))\n",
    "\n",
    "def print_quantile(p):\n",
    "  theoretical = quantile(p)\n",
    "  real = nonzero_dd_days[int(size * (1 - p))]\n",
    "  print(f'{p * 100}% of time expected drawdown is no more than {theoretical:.2f}% theoretically or {real:.2f}% actually')\n",
    "\n",
    "print('Quantiles:')\n",
    "for p in [0.50, 0.75, 0.95, 0.99]:\n",
    "  print_quantile(p)\n",
    "\n",
    "print(f'Max DD was {nonzero_dd_days[0]:.2f}%')\n",
    "print(f'Last DD ({pct_dd.index[-1].date()}) was {-pct_dd[-1]:.2f}%')"
   ]
  },
  {
   "cell_type": "markdown",
   "metadata": {},
   "source": [
    "# Current portfolio state"
   ]
  },
  {
   "cell_type": "markdown",
   "metadata": {},
   "source": [
    "## Structure"
   ]
  },
  {
   "cell_type": "code",
   "execution_count": null,
   "metadata": {},
   "outputs": [],
   "source": [
    "last_prices = df.iloc[-1].Close\n",
    "current_portfolio = result_df.iloc[-1].portfolio\n",
    "total_value = 0\n",
    "for asset in current_portfolio.keys():\n",
    "  total_value += last_prices[asset] * current_portfolio[asset]\n",
    "\n",
    "for asset in current_portfolio.keys():\n",
    "  print(f'{asset}: {(last_prices[asset] * current_portfolio[asset]) / total_value:.2f}%')"
   ]
  },
  {
   "cell_type": "markdown",
   "metadata": {},
   "source": [
    "## Channels"
   ]
  },
  {
   "cell_type": "code",
   "execution_count": null,
   "metadata": {},
   "outputs": [],
   "source": [
    "last_day = df.iloc[-1]\n",
    "\n",
    "lower = []\n",
    "upper = []\n",
    "current = []\n",
    "defensive = []\n",
    "index = []\n",
    "for (risk_asset, config) in CONFIG.items():\n",
    "  index.append(risk_asset)\n",
    "  lower.append(last_day.Lower_Channel[risk_asset])\n",
    "  current.append(last_day.Close[risk_asset])\n",
    "  upper.append(last_day.Upper_Channel[risk_asset])\n",
    "  defensive.append(CONFIG[risk_asset]['defensive_asset'])\n",
    "\n",
    "status_df = pd.DataFrame({'Lower': lower, 'Current price': current, 'Upper': upper, 'Defensive asset': defensive}, index=pd.Index(index, name='Risk asset'))\n",
    "pd.options.display.float_format = '${:,.2f}'.format\n",
    "current_assets = list(current_portfolio.keys())\n",
    "display(\n",
    "  status_df.reset_index().style.apply(\n",
    "    lambda col:  [\n",
    "      'background: lime' if current_assets[i] == asset else ''\n",
    "      for (i, asset) in enumerate(col)\n",
    "    ] if col.name in ['Risk asset', 'Defensive asset'] else [''] * len(col), axis = 0\n",
    "  )\n",
    ")\n",
    "pd.options.display.float_format = None\n",
    "\n",
    "\n"
   ]
  }
 ],
 "metadata": {
  "interpreter": {
   "hash": "40d3a090f54c6569ab1632332b64b2c03c39dcf918b08424e98f38b5ae0af88f"
  },
  "kernelspec": {
   "display_name": "Python 3.7.6 64-bit ('base': conda)",
   "language": "python",
   "name": "python3"
  },
  "language_info": {
   "codemirror_mode": {
    "name": "ipython",
    "version": 3
   },
   "file_extension": ".py",
   "mimetype": "text/x-python",
   "name": "python",
   "nbconvert_exporter": "python",
   "pygments_lexer": "ipython3",
   "version": "3.7.6"
  },
  "orig_nbformat": 4
 },
 "nbformat": 4,
 "nbformat_minor": 2
}
